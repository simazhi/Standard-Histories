{
 "cells": [
  {
   "cell_type": "markdown",
   "metadata": {},
   "source": [
    "Regular Expression\n",
    "\n",
    "- open the data extracted from BootCaT\n",
    "- clean the url using regular expression"
   ]
  },
  {
   "cell_type": "code",
   "execution_count": 3,
   "metadata": {
    "collapsed": false,
    "scrolled": false
   },
   "outputs": [],
   "source": [
    "## import the package: re\n",
    "import re\n",
    "\n",
    "## open the data\n",
    "data = open('/Users/Thomas/Desktop/25histMARKUS/Shiji_shu.txt_tei.xml').read() # change the directory of your data\n",
    "\n",
    "  \n",
    "## IDEOPHONES\n",
    "ideo = re.sub(r'(<name type=\"IDEO\".+?>)(.+?)(</name>)', ' \\\\2_IDE ', data)\n",
    "\n",
    "## PROPER NAME OR PARTIAL NAMESqq\n",
    "names = re.sub(r'(<name type=\"person\".+?>)(.+?)(</name>)', ' \\\\2_NAM ', ideo)\n",
    "\n",
    "## ROLES\n",
    "roles = re.sub(r'(<roleName.+?>)(.+?)(</roleName>)', ' \\\\2_ROL ', names)\n",
    "\n",
    "## PLACES\n",
    "places = re.sub(r'(<placeName.+?>)(.+?)(</placeName>)', ' \\\\2_PLA ', roles)\n",
    "\n",
    "## DATES\n",
    "dates = re.sub(r'(<date.+?>)(.+?)(</date>)', ' \\\\2_DAT ', places)\n",
    "\n",
    "##ideophone correction\n",
    "idecor = re.sub(r'(.)_PLA +(.)_PLA+ +(_IDE)', '\\\\1\\\\2\\\\3', dates)\n",
    "\n",
    "\n",
    "\n",
    "## PUNCTUATION\n",
    "punct = re.sub(r'([\\u3000-\\u303F|\\uFF00-\\uFF5A])', ' \\\\1_PUN ', idecor)\n",
    "\n",
    "\n",
    "## DELETE COMMENTARY\n",
    "comm = re.sub(r'〈_PUN(.+?)〉_PUN ', '', punct)\n",
    "\n",
    "#print (comm)\n",
    "\n"
   ]
  },
  {
   "cell_type": "code",
   "execution_count": 6,
   "metadata": {
    "collapsed": false
   },
   "outputs": [],
   "source": [
    "## PASSAGE MARKING\n",
    "passage = re.sub(r'(<.+?)\"(passage[0-9]+?)\">(.+)', '@\\\\2 \\\\3', comm)\n",
    "\n",
    "#print (passage)\n",
    "\n",
    "psg = re.findall('@passage[0-9]+.+?</p>', passage) # should have 1438 passages extracted ['psg1', 'psg2'...'psg1428']\n",
    "\n",
    "#print (psg)\n",
    "\n",
    "split_text = [i.split() for i in psg]\n",
    "\n",
    "all_psg = []\n",
    "for word in split_text:\n",
    "    psg_space = []\n",
    "    for chr in word:\n",
    "        if not re.search('.+_|@.+[0-9]+|</p>', chr):\n",
    "            psg_space.append(' '.join(chr))\n",
    "        else:\n",
    "            psg_space.append(chr)\n",
    "    all_psg.append(psg_space)\n",
    "\n",
    "\n",
    "all_doc = []\n",
    "for psg in all_psg:\n",
    "    paste_psg = ' '.join(psg)\n",
    "    abc = re.sub('</p>', '', paste_psg)\n",
    "    all_doc.append(abc)\n",
    "    \n",
    "\n",
    "#print (all_doc)\n",
    "\n",
    "\n",
    "#all_text = ' '.join(all_psg)    \n",
    "\n",
    "#print (all_text)\n",
    "\n",
    "\n",
    "\n"
   ]
  },
  {
   "cell_type": "code",
   "execution_count": 71,
   "metadata": {
    "collapsed": false
   },
   "outputs": [],
   "source": [
    "## output the cleaned file\n",
    "with open('/Users/Thomas/Desktop/25histCLEAN/Shiji_shu.txt', 'w') as f:  # change the output directory\n",
    "    for i in all_doc[1:]:\n",
    "        f.write(i+'\\n')"
   ]
  },
  {
   "cell_type": "code",
   "execution_count": null,
   "metadata": {
    "collapsed": true
   },
   "outputs": [],
   "source": []
  }
 ],
 "metadata": {
  "kernelspec": {
   "display_name": "Python 3",
   "language": "python",
   "name": "python3"
  },
  "language_info": {
   "codemirror_mode": {
    "name": "ipython",
    "version": 3
   },
   "file_extension": ".py",
   "mimetype": "text/x-python",
   "name": "python",
   "nbconvert_exporter": "python",
   "pygments_lexer": "ipython3",
   "version": "3.6.0"
  }
 },
 "nbformat": 4,
 "nbformat_minor": 0
}
