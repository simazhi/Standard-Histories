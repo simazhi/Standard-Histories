{
 "cells": [
  {
   "cell_type": "code",
   "execution_count": 12,
   "metadata": {
    "collapsed": false,
    "scrolled": false
   },
   "outputs": [],
   "source": [
    "## so first you SAVE a concordance search from the sketchengine in .txt\n",
    "## that is the basefile\n",
    "\n",
    "import re\n",
    "\n",
    "# change the directory of your data\n",
    "data = open('/Users/Thomas/Desktop/Concordances/Conc_sketchengine/Sanguozhi_con.txt').read() \n",
    "\n",
    "#print(data)\n"
   ]
  },
  {
   "cell_type": "code",
   "execution_count": 13,
   "metadata": {
    "collapsed": false
   },
   "outputs": [],
   "source": [
    "## LOOK UP FILE NAME CORRESPONDENCES\n",
    "\n",
    "\n",
    "##Add a tab after filename (for excel)\n",
    "file1 = re.sub('(file[0-9]+)(  +)', '\\\\1\\t', data)\n",
    "\n",
    "## CHANGE FILENAMES\n",
    "file2 = re.sub('file4698347', 'Sanguozhi_shushu', file1)\n",
    "file3 = re.sub('file4698349', 'Sanguozhi_weishu', file2)\n",
    "file4 = re.sub('file4698357', 'Sanguozhi_wushu', file3)\n",
    "#file5 = re.sub('file4698220', 'Shiji_shijia', file4)\n",
    "#file6 = re.sub('file4698223', 'Shiji_shu', file5)\n",
    "\n",
    "#print(file5)\n"
   ]
  },
  {
   "cell_type": "markdown",
   "metadata": {},
   "source": [
    "\n",
    "\n",
    " \n",
    " Sanguozhi\n",
    " file4698347\n",
    " file4698349\n",
    " file4698357\n",
    " \n",
    "  Sanguozhi/Sanguozhi_shushu.txt\n",
    " Sanguozhi/Sanguozhi_weishu.txt\n",
    " Sanguozhi/Sanguozhi_wushu.txt\n",
    "\n"
   ]
  },
  {
   "cell_type": "code",
   "execution_count": 14,
   "metadata": {
    "collapsed": false,
    "scrolled": true
   },
   "outputs": [],
   "source": [
    "##Change the tagged word to a tab format for excel\n",
    "\n",
    "\n",
    "### what we want is the word that is tagged by '_IDE'\n",
    "### but because sketchengine tags \"_\" and \"IDE\" as different words we have to do magic tricks\n",
    "### still, it is wise to keep \"IDE\" in a separate column\n",
    "### so far, our ideophones are two characters\n",
    "conc1 = re.sub('(..| ..|. .) _ < (IDE) > ', '\\t\\\\1\\t\\\\2\\t', file4)\n",
    "conc2 = re.sub('\\t(.) (.)\\tIDE', '\\t\\\\1\\\\2\\tIDE', conc1)\n",
    "conc3 = re.sub(' ?(..\\tIDE)', '\\\\1', conc2)\n",
    "\n",
    "#print(conc3)"
   ]
  },
  {
   "cell_type": "code",
   "execution_count": 15,
   "metadata": {
    "collapsed": false
   },
   "outputs": [],
   "source": [
    "## output the cleaned file\n",
    "with open('/Users/Thomas/Desktop/Concordances/Concordances_clean/Sanguozhi_conCLEAN.txt', 'w') as f:  # change the output directory\n",
    "        f.write(conc3)"
   ]
  },
  {
   "cell_type": "code",
   "execution_count": null,
   "metadata": {
    "collapsed": true
   },
   "outputs": [],
   "source": []
  }
 ],
 "metadata": {
  "kernelspec": {
   "display_name": "Python 3",
   "language": "python",
   "name": "python3"
  },
  "language_info": {
   "codemirror_mode": {
    "name": "ipython",
    "version": 3
   },
   "file_extension": ".py",
   "mimetype": "text/x-python",
   "name": "python",
   "nbconvert_exporter": "python",
   "pygments_lexer": "ipython3",
   "version": "3.6.0"
  }
 },
 "nbformat": 4,
 "nbformat_minor": 2
}
